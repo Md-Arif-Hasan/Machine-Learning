{
 "cells": [
  {
   "cell_type": "markdown",
   "id": "49124cd6",
   "metadata": {
    "papermill": {
     "duration": 0.003218,
     "end_time": "2023-11-09T22:27:46.746478",
     "exception": false,
     "start_time": "2023-11-09T22:27:46.743260",
     "status": "completed"
    },
    "tags": []
   },
   "source": []
  },
  {
   "cell_type": "code",
   "execution_count": 1,
   "id": "e43dc7ed",
   "metadata": {
    "_cell_guid": "b1076dfc-b9ad-4769-8c92-a6c4dae69d19",
    "_uuid": "8f2839f25d086af736a60e9eeb907d3b93b6e0e5",
    "execution": {
     "iopub.execute_input": "2023-11-09T22:27:46.754327Z",
     "iopub.status.busy": "2023-11-09T22:27:46.753610Z",
     "iopub.status.idle": "2023-11-09T22:32:44.220327Z",
     "shell.execute_reply": "2023-11-09T22:32:44.219014Z"
    },
    "papermill": {
     "duration": 297.47429,
     "end_time": "2023-11-09T22:32:44.223680",
     "exception": false,
     "start_time": "2023-11-09T22:27:46.749390",
     "status": "completed"
    },
    "tags": []
   },
   "outputs": [
    {
     "name": "stdout",
     "output_type": "stream",
     "text": [
      "/kaggle/input/four-shapes/shapes/circle\n",
      "/kaggle/input/four-shapes/shapes/square\n",
      "/kaggle/input/four-shapes/shapes/star\n"
     ]
    },
    {
     "data": {
      "image/png": "[encoded data removed]",
      "text/plain": [
       "<Figure size 640x480 with 2 Axes>"
      ]
     },
     "metadata": {},
     "output_type": "display_data"
    },
    {
     "name": "stdout",
     "output_type": "stream",
     "text": [
      "SVM HoG Prediction: [0]\n",
      "Random Forest HoG Prediction: [0]\n",
      "SVM HoG Accuracy: 1.0\n",
      "Random Forest HoG Accuracy: 0.9966666666666667\n"
     ]
    }
   ],
   "source": [
    "import os\n",
    "import cv2\n",
    "import numpy as np\n",
    "import random\n",
    "from keras.utils import to_categorical  # Updated import\n",
    "from skimage.feature import hog\n",
    "from sklearn.model_selection import train_test_split\n",
    "from sklearn.svm import SVC\n",
    "from sklearn.ensemble import RandomForestClassifier\n",
    "from sklearn.metrics import accuracy_score\n",
    "import matplotlib.pyplot as plt\n",
    "\n",
    "dataset_path = \"/kaggle/input/four-shapes/shapes\"\n",
    "CATEGORIES = [\"circle\", \"square\", \"star\"]\n",
    "IMG_SIZE = 200\n",
    "MAX_IMAGES_PER_CLASS = 500  # Limit the number of images per class\n",
    "\n",
    "training = []\n",
    "\n",
    "def TrainingData():\n",
    "    for i, category in enumerate(CATEGORIES):\n",
    "        path = os.path.join(dataset_path, category)\n",
    "        print(path)\n",
    "        class_num = CATEGORIES.index(category)\n",
    "        \n",
    "        image_count = 0  # Keep track of the number of images collected for this class\n",
    "        for img in os.listdir(path):\n",
    "            if image_count >= MAX_IMAGES_PER_CLASS:\n",
    "                break  # Stop collecting images once the limit is reached\n",
    "            \n",
    "            img_array = cv2.imread(os.path.join(path, img))\n",
    "            new_array = cv2.resize(img_array, (IMG_SIZE, IMG_SIZE))\n",
    "            training.append([new_array, class_num])\n",
    "            image_count += 1\n",
    "\n",
    "# Call the TrainingData() function to process the dataset\n",
    "TrainingData()\n",
    "\n",
    "random.shuffle(training)\n",
    "\n",
    "X = []\n",
    "y = []\n",
    "for features, label in training:\n",
    "    X.append(features)\n",
    "    y.append(label)\n",
    "X = np.array(X).reshape(-1, IMG_SIZE, IMG_SIZE, 3)\n",
    "\n",
    "Y = to_categorical(y, 3)  # Use to_categorical from Keras\n",
    "\n",
    "def extract_hog_features(image):\n",
    "    # Convert the image to grayscale\n",
    "    gray_image = cv2.cvtColor(image, cv2.COLOR_BGR2GRAY)\n",
    "    \n",
    "    # Extract HoG features\n",
    "    features, hog_image = hog(gray_image, pixels_per_cell=(8, 8), cells_per_block=(1, 1), block_norm='L2-Hys', transform_sqrt=True, visualize=True)\n",
    "    \n",
    "    # Resize HoG features to the same size as the input image (200x200)\n",
    "    hog_resized = cv2.resize(hog_image, (IMG_SIZE, IMG_SIZE), interpolation=cv2.INTER_LINEAR)\n",
    "    \n",
    "    return hog_resized\n",
    "\n",
    "X_hog = []\n",
    "for image in X:\n",
    "    temp = extract_hog_features(image)\n",
    "    X_hog.append(temp)\n",
    "\n",
    "# Now, X_hog contains HoG features\n",
    "\n",
    "# Split the HoG feature data into training and testing sets\n",
    "X_train_hog, X_test_hog, y_train_hog, y_test_hog = train_test_split(X_hog, y, test_size=0.2, random_state=3)\n",
    "\n",
    "X_train_hog = np.array(X_train_hog)\n",
    "X_test_hog = np.array(X_test_hog)\n",
    "y_train_hog = np.array(y_train_hog)\n",
    "y_test_hog = np.array(y_test_hog)\n",
    "\n",
    "# Visualize the HoG features of an example image\n",
    "plt.subplot(121), plt.imshow(cv2.cvtColor(X[0], cv2.COLOR_BGR2RGB))\n",
    "plt.title('Original Image'), plt.xticks([]), plt.yticks([])\n",
    "plt.subplot(122), plt.imshow(X_test_hog[0], cmap='gray')\n",
    "plt.title('HoG Feature Visualization'), plt.xticks([]), plt.yticks([])\n",
    "plt.show()\n",
    "\n",
    "# Flatten the HoG features\n",
    "X_train_hog = X_train_hog.reshape((X_train_hog.shape[0], IMG_SIZE * IMG_SIZE))\n",
    "X_test_hog = X_test_hog.reshape((X_test_hog.shape[0], IMG_SIZE * IMG_SIZE))\n",
    "\n",
    "# Create SVM and Random Forest classifiers\n",
    "svm_classifier_hog = SVC(kernel='linear', C=1.0)\n",
    "rf_classifier_hog = RandomForestClassifier(n_estimators=100, random_state=0)\n",
    "\n",
    "# Train the classifiers\n",
    "svm_classifier_hog.fit(X_train_hog, y_train_hog)\n",
    "rf_classifier_hog.fit(X_train_hog, y_train_hog)\n",
    "\n",
    "# Predict the class using SVM for HoG features\n",
    "svm_prediction_hog = svm_classifier_hog.predict([X_test_hog[0]])\n",
    "\n",
    "# Predict the class using Random Forest for HoG features\n",
    "rf_prediction_hog = rf_classifier_hog.predict([X_test_hog[0]])\n",
    "\n",
    "print(\"SVM HoG Prediction:\", svm_prediction_hog)\n",
    "print(\"Random Forest HoG Prediction:\", rf_prediction_hog)\n",
    "\n",
    "# Evaluate the accuracies for HoG features\n",
    "svm_predictions_hog = svm_classifier_hog.predict(X_test_hog)\n",
    "rf_predictions_hog = rf_classifier_hog.predict(X_test_hog)\n",
    "\n",
    "svm_accuracy_hog = accuracy_score(y_test_hog, svm_predictions_hog)\n",
    "rf_accuracy_hog = accuracy_score(y_test_hog, rf_predictions_hog)\n",
    "\n",
    "print(\"SVM HoG Accuracy:\", svm_accuracy_hog)\n",
    "print(\"Random Forest HoG Accuracy:\", rf_accuracy_hog)\n"
   ]
  },
  {
   "cell_type": "markdown",
   "id": "9f3d733f",
   "metadata": {
    "papermill": {
     "duration": 0.005012,
     "end_time": "2023-11-09T22:32:44.234237",
     "exception": false,
     "start_time": "2023-11-09T22:32:44.229225",
     "status": "completed"
    },
    "tags": []
   },
   "source": [
    "# > **> SVM HoG Accuracy: 0.9966666666666667\n",
    "# > > Random Forest HoG Accuracy: 0.9933333333333333"
   ]
  },
  {
   "cell_type": "markdown",
   "id": "6937f283",
   "metadata": {
    "papermill": {
     "duration": 0.004929,
     "end_time": "2023-11-09T22:32:44.244545",
     "exception": false,
     "start_time": "2023-11-09T22:32:44.239616",
     "status": "completed"
    },
    "tags": []
   },
   "source": [
    "# LBP - SVM & RF "
   ]
  },
  {
   "cell_type": "code",
   "execution_count": 2,
   "id": "d33512e7",
   "metadata": {
    "execution": {
     "iopub.execute_input": "2023-11-09T22:32:44.258125Z",
     "iopub.status.busy": "2023-11-09T22:32:44.257101Z",
     "iopub.status.idle": "2023-11-09T22:33:21.498516Z",
     "shell.execute_reply": "2023-11-09T22:33:21.497230Z"
    },
    "papermill": {
     "duration": 37.25199,
     "end_time": "2023-11-09T22:33:21.501845",
     "exception": false,
     "start_time": "2023-11-09T22:32:44.249855",
     "status": "completed"
    },
    "tags": []
   },
   "outputs": [
    {
     "name": "stdout",
     "output_type": "stream",
     "text": [
      "/kaggle/input/four-shapes/shapes/circle\n",
      "/kaggle/input/four-shapes/shapes/square\n",
      "/kaggle/input/four-shapes/shapes/star\n"
     ]
    },
    {
     "data": {
      "image/png": "[encoded data removed]",
      "text/plain": [
       "<Figure size 640x480 with 2 Axes>"
      ]
     },
     "metadata": {},
     "output_type": "display_data"
    },
    {
     "name": "stdout",
     "output_type": "stream",
     "text": [
      "SVM LBP Prediction: [2]\n",
      "Random Forest LBP Prediction: [2]\n",
      "SVM LBP Accuracy: 0.9966666666666667\n",
      "Random Forest LBP Accuracy: 0.9933333333333333\n"
     ]
    }
   ],
   "source": [
    "import os\n",
    "import cv2\n",
    "import numpy as np\n",
    "import random\n",
    "from skimage.feature import local_binary_pattern\n",
    "from sklearn.model_selection import train_test_split\n",
    "from sklearn.svm import SVC\n",
    "from sklearn.ensemble import RandomForestClassifier\n",
    "from sklearn.metrics import accuracy_score\n",
    "import matplotlib.pyplot as plt\n",
    "\n",
    "dataset_path = \"/kaggle/input/four-shapes/shapes\"\n",
    "CATEGORIES = [\"circle\", \"square\", \"star\"]\n",
    "IMG_SIZE = 200\n",
    "MAX_IMAGES_PER_CLASS = 500  # Limit the number of images per class\n",
    "\n",
    "training = []\n",
    "\n",
    "def TrainingData():\n",
    "    for i, category in enumerate(CATEGORIES):\n",
    "        path = os.path.join(dataset_path, category)\n",
    "        print(path)\n",
    "        class_num = CATEGORIES.index(category)\n",
    "        \n",
    "        image_count = 0  # Keep track of the number of images collected for this class\n",
    "        for img in os.listdir(path):\n",
    "            if image_count >= MAX_IMAGES_PER_CLASS:\n",
    "                break  # Stop collecting images once the limit is reached\n",
    "            \n",
    "            img_array = cv2.imread(os.path.join(path, img))\n",
    "            new_array = cv2.resize(img_array, (IMG_SIZE, IMG_SIZE))\n",
    "            training.append([new_array, class_num])\n",
    "            image_count += 1\n",
    "\n",
    "# Call the TrainingData() function to process the dataset\n",
    "TrainingData()\n",
    "\n",
    "random.shuffle(training)\n",
    "\n",
    "X = []\n",
    "y = []\n",
    "for features, label in training:\n",
    "    X.append(features)\n",
    "    y.append(label)\n",
    "X = np.array(X).reshape(-1, IMG_SIZE, IMG_SIZE, 3)\n",
    "\n",
    "def extract_lbp_features(image):\n",
    "    # Convert the image to grayscale\n",
    "    gray_image = cv2.cvtColor(image, cv2.COLOR_BGR2GRAY)\n",
    "    \n",
    "    # Extract LBP features\n",
    "    lbp_image = local_binary_pattern(gray_image, P=8, R=1, method='uniform')\n",
    "    \n",
    "    # Resize LBP features to the same size as the input image (200x200)\n",
    "    lbp_resized = cv2.resize(lbp_image, (IMG_SIZE, IMG_SIZE), interpolation=cv2.INTER_LINEAR)\n",
    "    \n",
    "    return lbp_resized\n",
    "\n",
    "X_lbp = []\n",
    "for image in X:\n",
    "    temp = extract_lbp_features(image)\n",
    "    X_lbp.append(temp)\n",
    "\n",
    "# Now, X_lbp contains LBP features\n",
    "\n",
    "# Split the LBP feature data into training and testing sets\n",
    "X_train_lbp, X_test_lbp, y_train_lbp, y_test_lbp = train_test_split(X_lbp, y, test_size=0.2, random_state=3)\n",
    "\n",
    "X_train_lbp = np.array(X_train_lbp)\n",
    "X_test_lbp = np.array(X_test_lbp)\n",
    "y_train_lbp = np.array(y_train_lbp)\n",
    "y_test_lbp = np.array(y_test_lbp)\n",
    "\n",
    "# Visualize the LBP features of an example image\n",
    "plt.subplot(121), plt.imshow(cv2.cvtColor(X[0], cv2.COLOR_BGR2RGB))\n",
    "plt.title('Original Image'), plt.xticks([]), plt.yticks([])\n",
    "plt.subplot(122), plt.imshow(X_test_lbp[0], cmap='gray')\n",
    "plt.title('LBP Feature Visualization'), plt.xticks([]), plt.yticks([])\n",
    "plt.show()\n",
    "\n",
    "# Flatten the LBP features\n",
    "X_train_lbp = X_train_lbp.reshape((X_train_lbp.shape[0], IMG_SIZE * IMG_SIZE))\n",
    "X_test_lbp = X_test_lbp.reshape((X_test_lbp.shape[0], IMG_SIZE * IMG_SIZE))\n",
    "\n",
    "# Create SVM and Random Forest classifiers\n",
    "svm_classifier_lbp = SVC(kernel='linear', C=1.0)\n",
    "rf_classifier_lbp = RandomForestClassifier(n_estimators=100, random_state=0)\n",
    "\n",
    "# Train the classifiers\n",
    "svm_classifier_lbp.fit(X_train_lbp, y_train_lbp)\n",
    "rf_classifier_lbp.fit(X_train_lbp, y_train_lbp)\n",
    "\n",
    "# Predict the class using SVM for LBP features\n",
    "svm_prediction_lbp = svm_classifier_lbp.predict([X_test_lbp[0]])\n",
    "\n",
    "# Predict the class using Random Forest for LBP features\n",
    "rf_prediction_lbp = rf_classifier_lbp.predict([X_test_lbp[0]])\n",
    "\n",
    "print(\"SVM LBP Prediction:\", svm_prediction_lbp)\n",
    "print(\"Random Forest LBP Prediction:\", rf_prediction_lbp)\n",
    "\n",
    "# Evaluate the accuracies for LBP features\n",
    "svm_predictions_lbp = svm_classifier_lbp.predict(X_test_lbp)\n",
    "rf_predictions_lbp = rf_classifier_lbp.predict(X_test_lbp)\n",
    "\n",
    "svm_accuracy_lbp = accuracy_score(y_test_lbp, svm_predictions_lbp)\n",
    "rf_accuracy_lbp = accuracy_score(y_test_lbp, rf_predictions_lbp)\n",
    "\n",
    "print(\"SVM LBP Accuracy:\", svm_accuracy_lbp)\n",
    "print(\"Random Forest LBP Accuracy:\", rf_accuracy_lbp)\n"
   ]
  },
  {
   "cell_type": "markdown",
   "id": "bc9e2ae2",
   "metadata": {
    "papermill": {
     "duration": 0.006851,
     "end_time": "2023-11-09T22:33:21.516133",
     "exception": false,
     "start_time": "2023-11-09T22:33:21.509282",
     "status": "completed"
    },
    "tags": []
   },
   "source": [
    "**SVM LBP Accuracy: 1.0\n",
    "Random Forest LBP Accuracy: 1.0******"
   ]
  },
  {
   "cell_type": "markdown",
   "id": "8da79972",
   "metadata": {
    "papermill": {
     "duration": 0.006716,
     "end_time": "2023-11-09T22:33:21.529935",
     "exception": false,
     "start_time": "2023-11-09T22:33:21.523219",
     "status": "completed"
    },
    "tags": []
   },
   "source": []
  }
 ],
 "metadata": {
  "kernelspec": {
   "display_name": "Python 3",
   "language": "python",
   "name": "python3"
  },
  "language_info": {
   "codemirror_mode": {
    "name": "ipython",
    "version": 3
   },
   "file_extension": ".py",
   "mimetype": "text/x-python",
   "name": "python",
   "nbconvert_exporter": "python",
   "pygments_lexer": "ipython3",
   "version": "3.10.12"
  },
  "papermill": {
   "default_parameters": {},
   "duration": 339.506845,
   "end_time": "2023-11-09T22:33:23.168275",
   "environment_variables": {},
   "exception": null,
   "input_path": "__notebook__.ipynb",
   "output_path": "__notebook__.ipynb",
   "parameters": {},
   "start_time": "2023-11-09T22:27:43.661430",
   "version": "2.4.0"
  }
 },
 "nbformat": 4,
 "nbformat_minor": 5
}
